{
 "cells": [
  {
   "cell_type": "markdown",
   "metadata": {},
   "source": [
    "# Domain Generation Algorithms (DGA) \n",
    "\n",
    "MITRE ATT&CK: https://attack.mitre.org/techniques/T1323/\n",
    "\n",
    "## Preamble\n",
    "In order to facilitate command and control (C2), Malware will require a rendevous point with an internet based server.  Historically, this connection was facilitated with a hardcoded domain name within the Malware.  This domain name would then be reached out periodically.\n",
    "\n",
    "In order to gain a persistance and foothold, Malware will often rendevous with internet servers to establish command and control behaviours.  Historically, this was done with a single domain name that was registered by an adversary, however, this technique was countered by reverse engineering Malware samples and blocking the domain.\n",
    "\n",
    "Adversaries countered this tactic by the implementation og Domain Generation Algorithms - an algorithm that will generate a number of domain names and effectively killing the ability to \n",
    "\n",
    "To combat the use of blacklists on hard-coded domain-names, a domain generation algorithm is often coded into Malware samples.  This technique allows adversaries generate domain names and effectively bypass any blocking behaviours.\n",
    "\n",
    "Traditional approaches are reactive - it involves reverse engineering the Malware binaries.  This is naturally time consuming.\n",
    "\n",
    "## Detection Approach(s)\n",
    "\n",
    "* NXDomains\n",
    "If a single host is making a large number of NXDomain (non-existant) - this could indicate Malware usage.  This is still a reactive approach, it requires the sum of NX domains to be met before approach could be made.\n",
    "\n",
    "* Feature Engineering\n",
    "Look at intrinsic features\n",
    "\n",
    "* RNN\n",
    "Scalable and easy to use technique for detection\n",
    "\n",
    "## Datasets\n",
    "* Cisco's Umbrella Popularity\n",
    " The popularity list contains our most queried domains based on passive DNS usage across our Umbrella global network of more than 100 Billion requests per day with 65 million unique active users, in more than 165 countries. Unlike Alexa, the metric is not based on only browser based 'http' requests from users but rather takes in to account the number of unique client IPs invoking this domain relative to the sum of all requests to all domains. In other words, our popularity ranking reflects the domain’s relative internet activity agnostic to the invocation protocols and applications where as ’site ranking’ models (such as Alexa) focus on the web activity over port 80 mainly from browsers. \n",
    "https://s3-us-west-1.amazonaws.com/umbrella-static/index.html\n",
    "\n",
    "\n",
    "* DGA Sets from NetLab\n",
    "\n",
    "\n",
    "## References\n",
    "[1] - https://blog.malwarebytes.com/security-world/2016/12/explained-domain-generating-algorithm/\n",
    "\n",
    "[2] - https://www.youtube.com/watch?v=jm7wH2G0h6c"
   ]
  },
  {
   "cell_type": "markdown",
   "metadata": {},
   "source": [
    "<hr>"
   ]
  },
  {
   "cell_type": "markdown",
   "metadata": {},
   "source": [
    "## NX Domain Detection\n"
   ]
  },
  {
   "cell_type": "markdown",
   "metadata": {},
   "source": [
    "<hr>"
   ]
  },
  {
   "cell_type": "markdown",
   "metadata": {},
   "source": [
    "## Recurrent Neural Networks (RNN)"
   ]
  },
  {
   "cell_type": "code",
   "execution_count": 55,
   "metadata": {},
   "outputs": [],
   "source": [
    "import random\n",
    "\n",
    "import pandas as pd\n",
    "import numpy as np\n",
    "\n",
    "import matplotlib.pyplot as plt\n",
    "from keras.preprocessing import sequence\n",
    "from keras.models import Sequential\n",
    "from keras.layers.core import Dense, Dropout, Activation\n",
    "from keras.layers.embeddings import Embedding\n",
    "from keras.layers.recurrent import LSTM\n",
    "import sklearn\n",
    "from sklearn import feature_extraction\n",
    "from sklearn.model_selection import train_test_split"
   ]
  },
  {
   "cell_type": "markdown",
   "metadata": {},
   "source": [
    "## Data Ingestion & Preprocessing"
   ]
  },
  {
   "cell_type": "code",
   "execution_count": 12,
   "metadata": {},
   "outputs": [
    {
     "data": {
      "text/html": [
       "<div>\n",
       "<style scoped>\n",
       "    .dataframe tbody tr th:only-of-type {\n",
       "        vertical-align: middle;\n",
       "    }\n",
       "\n",
       "    .dataframe tbody tr th {\n",
       "        vertical-align: top;\n",
       "    }\n",
       "\n",
       "    .dataframe thead th {\n",
       "        text-align: right;\n",
       "    }\n",
       "</style>\n",
       "<table border=\"1\" class=\"dataframe\">\n",
       "  <thead>\n",
       "    <tr style=\"text-align: right;\">\n",
       "      <th></th>\n",
       "      <th>src</th>\n",
       "      <th>domain</th>\n",
       "      <th>class</th>\n",
       "    </tr>\n",
       "  </thead>\n",
       "  <tbody>\n",
       "    <tr>\n",
       "      <th>136</th>\n",
       "      <td>cisco</td>\n",
       "      <td>a.akamaiedge.net</td>\n",
       "      <td>benign</td>\n",
       "    </tr>\n",
       "    <tr>\n",
       "      <th>141</th>\n",
       "      <td>gameover</td>\n",
       "      <td>15f3re43sl45w1mm4f65zhbsm6.com</td>\n",
       "      <td>malicious</td>\n",
       "    </tr>\n",
       "    <tr>\n",
       "      <th>435</th>\n",
       "      <td>gameover</td>\n",
       "      <td>yoct3xowrw3i8s0fep1dy93pk.com</td>\n",
       "      <td>malicious</td>\n",
       "    </tr>\n",
       "    <tr>\n",
       "      <th>325</th>\n",
       "      <td>cisco</td>\n",
       "      <td>s.yimg.com</td>\n",
       "      <td>benign</td>\n",
       "    </tr>\n",
       "    <tr>\n",
       "      <th>229</th>\n",
       "      <td>gameover</td>\n",
       "      <td>1wzsta1714mnfnm9jlr1xsepvv.net</td>\n",
       "      <td>malicious</td>\n",
       "    </tr>\n",
       "  </tbody>\n",
       "</table>\n",
       "</div>"
      ],
      "text/plain": [
       "          src                          domain      class\n",
       "136     cisco                a.akamaiedge.net     benign\n",
       "141  gameover  15f3re43sl45w1mm4f65zhbsm6.com  malicious\n",
       "435  gameover   yoct3xowrw3i8s0fep1dy93pk.com  malicious\n",
       "325     cisco                      s.yimg.com     benign\n",
       "229  gameover  1wzsta1714mnfnm9jlr1xsepvv.net  malicious"
      ]
     },
     "execution_count": 12,
     "metadata": {},
     "output_type": "execute_result"
    }
   ],
   "source": [
    "# Ingesting Benign Domains\n",
    "benignDomains_df = pd.read_csv('dataset/CISCO-top-1m.csv', names=['domain'])\n",
    "benignDomains_df['class'] = 'benign'\n",
    "benignDomains_df['src'] = 'cisco'\n",
    "\n",
    "# Ingesting Malicious Domains\n",
    "maliciousDomains_df = pd.read_csv('dataset/dga-domains.txt', sep='\\t', usecols=[0,1], names=['src', 'domain'])\n",
    "maliciousDomains_df['class'] = 'malicious'\n",
    "\n",
    "# Merging Datasets\n",
    "dataset_df = pd.concat([maliciousDomains_df[0:500], benignDomains_df[0:500]], sort=False)\n",
    "dataset_df = dataset_df.sample(frac=1)\n",
    "dataset_df.head()"
   ]
  },
  {
   "cell_type": "markdown",
   "metadata": {},
   "source": [
    "## NN Preprocessing"
   ]
  },
  {
   "cell_type": "code",
   "execution_count": 38,
   "metadata": {},
   "outputs": [
    {
     "name": "stdout",
     "output_type": "stream",
     "text": [
      "i: 0  x: 9\n",
      "i: 1  x: m\n",
      "i: 2  x: 6\n",
      "i: 3  x: b\n",
      "i: 4  x: l\n",
      "i: 5  x: .\n",
      "i: 6  x: v\n",
      "i: 7  x: z\n",
      "i: 8  x: n\n",
      "i: 9  x: 4\n",
      "i: 10  x: r\n",
      "i: 11  x: e\n",
      "i: 12  x: a\n",
      "i: 13  x: u\n",
      "i: 14  x: 5\n",
      "i: 15  x: 3\n",
      "i: 16  x: 8\n",
      "i: 17  x: p\n",
      "i: 18  x: w\n",
      "i: 19  x: y\n",
      "i: 20  x: s\n",
      "i: 21  x: c\n",
      "i: 22  x: 0\n",
      "i: 23  x: 2\n",
      "i: 24  x: -\n",
      "i: 25  x: f\n",
      "i: 26  x: i\n",
      "i: 27  x: j\n",
      "i: 28  x: h\n",
      "i: 29  x: t\n",
      "i: 30  x: x\n",
      "i: 31  x: o\n",
      "i: 32  x: 7\n",
      "i: 33  x: d\n",
      "i: 34  x: k\n",
      "i: 35  x: 1\n",
      "i: 36  x: q\n",
      "i: 37  x: g\n"
     ]
    },
    {
     "data": {
      "text/plain": [
       "39"
      ]
     },
     "execution_count": 38,
     "metadata": {},
     "output_type": "execute_result"
    }
   ],
   "source": [
    "benign_domains = benignDomains_df['domain'][0:500].tolist()\n",
    "dga_domains = maliciousDomains_df['domain'][0:500].tolist()\n",
    "\n",
    "X = benign_domains + dga_domains\n",
    "\n",
    "unique_chars = enumerate(set(''.join(X))) \n",
    "chars_dict = dict()\n",
    "for i, x in unique_chars: #index of enum starts with 0\n",
    "    print('i: ' + str(i) + '  x: ' + x)\n",
    "    chars_dict[x] = i + 1 #leave 0 for padding\n",
    "\n",
    "    \n",
    "\n",
    "#index 0 is also going to be a feature(padding/unknown).\n",
    "max_features_num = len(chars_dict) + 1\n",
    "max_features_num\n",
    "\n",
    "\n"
   ]
  },
  {
   "cell_type": "code",
   "execution_count": 39,
   "metadata": {},
   "outputs": [
    {
     "data": {
      "text/plain": [
       "40"
      ]
     },
     "execution_count": 39,
     "metadata": {},
     "output_type": "execute_result"
    }
   ],
   "source": [
    "\n",
    "\n",
    "# Convert characters to int\n",
    "X_in_int = []\n",
    "for domain in X:\n",
    "    domain_in_int = []\n",
    "    for c in domain:\n",
    "        domain_in_int.append(chars_dict[c])\n",
    "    X_in_int.append(domain_in_int)\n",
    "\n",
    "X = X_in_int\n",
    "\n",
    "maxlen = np.max([len(x) for x in X])\n",
    "maxlen"
   ]
  },
  {
   "cell_type": "code",
   "execution_count": 40,
   "metadata": {},
   "outputs": [
    {
     "data": {
      "text/plain": [
       "array([[ 0,  0,  0, ..., 22, 32,  2],\n",
       "       [ 0,  0,  0, ..., 22, 32,  2],\n",
       "       [ 0,  0,  0, ..., 22, 32,  2],\n",
       "       ...,\n",
       "       [ 0,  0,  0, ..., 32, 11, 38],\n",
       "       [ 0,  0,  0, ...,  9, 12, 30],\n",
       "       [ 0,  0,  0, ...,  4, 27,  8]], dtype=int32)"
      ]
     },
     "execution_count": 40,
     "metadata": {},
     "output_type": "execute_result"
    }
   ],
   "source": [
    "X = sequence.pad_sequences(X, maxlen=maxlen)\n",
    "X"
   ]
  },
  {
   "cell_type": "code",
   "execution_count": 41,
   "metadata": {},
   "outputs": [
    {
     "data": {
      "text/plain": [
       "(1000, 40)"
      ]
     },
     "execution_count": 41,
     "metadata": {},
     "output_type": "execute_result"
    }
   ],
   "source": [
    "X.shape"
   ]
  },
  {
   "cell_type": "code",
   "execution_count": 42,
   "metadata": {},
   "outputs": [],
   "source": [
    "Y = np.hstack([np.zeros(len(benign_domains)),np.ones(len(dga_domains))])"
   ]
  },
  {
   "cell_type": "code",
   "execution_count": 43,
   "metadata": {},
   "outputs": [],
   "source": [
    "def build_model(max_features_num, maxlen):\n",
    "    \"\"\"Build LSTM model\"\"\"\n",
    "    model = Sequential()\n",
    "    model.add(Embedding(max_features_num, 64, input_length=maxlen))\n",
    "    model.add(LSTM(64))\n",
    "    model.add(Dropout(0.5))\n",
    "    model.add(Dense(1))\n",
    "    model.add(Activation('sigmoid'))\n",
    "\n",
    "    model.compile(loss='binary_crossentropy',\n",
    "                  optimizer='rmsprop',\n",
    "                  metrics=['binary_crossentropy','acc'])\n",
    "\n",
    "    return model"
   ]
  },
  {
   "cell_type": "code",
   "execution_count": 44,
   "metadata": {},
   "outputs": [
    {
     "name": "stdout",
     "output_type": "stream",
     "text": [
      "The cut point will be 500\n"
     ]
    }
   ],
   "source": [
    "pos_neg_cutpoint = len(benign_domains)\n",
    "print(\"The cut point will be \"+ str(pos_neg_cutpoint))"
   ]
  },
  {
   "cell_type": "code",
   "execution_count": 47,
   "metadata": {},
   "outputs": [],
   "source": [
    "sampling_size = 250\n",
    "\n",
    "pos_indices = random.sample(range(pos_neg_cutpoint),sampling_size)\n",
    "neg_indices = random.sample(range(pos_neg_cutpoint, len(X)),sampling_size)"
   ]
  },
  {
   "cell_type": "code",
   "execution_count": 48,
   "metadata": {},
   "outputs": [],
   "source": [
    "\n",
    "\n",
    "new_X = X[pos_indices + neg_indices]\n",
    "new_Y = Y[pos_indices + neg_indices]\n",
    "\n"
   ]
  },
  {
   "cell_type": "code",
   "execution_count": 49,
   "metadata": {},
   "outputs": [],
   "source": [
    "max_epoch=25\n",
    "nfolds=10\n",
    "batch_size=128"
   ]
  },
  {
   "cell_type": "code",
   "execution_count": 50,
   "metadata": {},
   "outputs": [],
   "source": [
    "#call backs\n",
    "from keras.callbacks import EarlyStopping\n",
    "cb = []\n",
    "\n",
    "cb.append(EarlyStopping(monitor='val_loss', \n",
    "                        min_delta=0, #an absolute change of less than min_delta, will count as no improvement\n",
    "                        patience=5, #number of epochs with no improvement after which training will be stopped\n",
    "                        verbose=0, \n",
    "                        mode='auto', \n",
    "                        baseline=None, \n",
    "                        restore_best_weights=False))"
   ]
  },
  {
   "cell_type": "code",
   "execution_count": 51,
   "metadata": {},
   "outputs": [
    {
     "name": "stdout",
     "output_type": "stream",
     "text": [
      "WARNING:tensorflow:From /usr/local/lib/python3.7/site-packages/tensorflow/python/framework/op_def_library.py:263: colocate_with (from tensorflow.python.framework.ops) is deprecated and will be removed in a future version.\n",
      "Instructions for updating:\n",
      "Colocations handled automatically by placer.\n",
      "WARNING:tensorflow:From /usr/local/lib/python3.7/site-packages/keras/backend/tensorflow_backend.py:3445: calling dropout (from tensorflow.python.ops.nn_ops) with keep_prob is deprecated and will be removed in a future version.\n",
      "Instructions for updating:\n",
      "Please use `rate` instead of `keep_prob`. Rate should be set to `rate = 1 - keep_prob`.\n",
      "_________________________________________________________________\n",
      "Layer (type)                 Output Shape              Param #   \n",
      "=================================================================\n",
      "embedding_1 (Embedding)      (None, 40, 64)            2496      \n",
      "_________________________________________________________________\n",
      "lstm_1 (LSTM)                (None, 64)                33024     \n",
      "_________________________________________________________________\n",
      "dropout_1 (Dropout)          (None, 64)                0         \n",
      "_________________________________________________________________\n",
      "dense_1 (Dense)              (None, 1)                 65        \n",
      "_________________________________________________________________\n",
      "activation_1 (Activation)    (None, 1)                 0         \n",
      "=================================================================\n",
      "Total params: 35,585\n",
      "Trainable params: 35,585\n",
      "Non-trainable params: 0\n",
      "_________________________________________________________________\n"
     ]
    }
   ],
   "source": [
    "model = build_model(max_features_num, maxlen)\n",
    "model.summary()"
   ]
  },
  {
   "cell_type": "code",
   "execution_count": 52,
   "metadata": {},
   "outputs": [
    {
     "name": "stdout",
     "output_type": "stream",
     "text": [
      "WARNING:tensorflow:From /usr/local/lib/python3.7/site-packages/tensorflow/python/ops/math_ops.py:3066: to_int32 (from tensorflow.python.ops.math_ops) is deprecated and will be removed in a future version.\n",
      "Instructions for updating:\n",
      "Use tf.cast instead.\n",
      "Train on 400 samples, validate on 100 samples\n",
      "Epoch 1/25\n",
      "400/400 [==============================] - 1s 3ms/step - loss: 0.6754 - binary_crossentropy: 0.6754 - acc: 0.6075 - val_loss: 0.7791 - val_binary_crossentropy: 0.7791 - val_acc: 0.0000e+00\n",
      "Epoch 2/25\n",
      "400/400 [==============================] - 0s 472us/step - loss: 0.5895 - binary_crossentropy: 0.5895 - acc: 0.6250 - val_loss: 1.2195 - val_binary_crossentropy: 1.2195 - val_acc: 0.0700\n",
      "Epoch 3/25\n",
      "400/400 [==============================] - 0s 409us/step - loss: 0.5394 - binary_crossentropy: 0.5394 - acc: 0.7525 - val_loss: 1.2274 - val_binary_crossentropy: 1.2274 - val_acc: 0.2300\n",
      "Epoch 4/25\n",
      "400/400 [==============================] - 0s 474us/step - loss: 0.4354 - binary_crossentropy: 0.4354 - acc: 0.8075 - val_loss: 1.5663 - val_binary_crossentropy: 1.5663 - val_acc: 0.3800\n",
      "Epoch 5/25\n",
      "400/400 [==============================] - 0s 491us/step - loss: 0.4464 - binary_crossentropy: 0.4464 - acc: 0.8625 - val_loss: 0.6009 - val_binary_crossentropy: 0.6009 - val_acc: 0.8100\n",
      "Epoch 6/25\n",
      "400/400 [==============================] - 0s 646us/step - loss: 0.3896 - binary_crossentropy: 0.3896 - acc: 0.9125 - val_loss: 0.6545 - val_binary_crossentropy: 0.6545 - val_acc: 0.7400\n",
      "Epoch 7/25\n",
      "400/400 [==============================] - 0s 504us/step - loss: 0.3021 - binary_crossentropy: 0.3021 - acc: 0.9125 - val_loss: 0.5170 - val_binary_crossentropy: 0.5170 - val_acc: 0.8100\n",
      "Epoch 8/25\n",
      "400/400 [==============================] - 0s 407us/step - loss: 0.3031 - binary_crossentropy: 0.3031 - acc: 0.9225 - val_loss: 0.3489 - val_binary_crossentropy: 0.3489 - val_acc: 0.9400\n",
      "Epoch 9/25\n",
      "400/400 [==============================] - 0s 486us/step - loss: 0.2386 - binary_crossentropy: 0.2386 - acc: 0.9475 - val_loss: 0.7637 - val_binary_crossentropy: 0.7637 - val_acc: 0.7200\n",
      "Epoch 10/25\n",
      "400/400 [==============================] - 0s 498us/step - loss: 0.2914 - binary_crossentropy: 0.2914 - acc: 0.9200 - val_loss: 0.2478 - val_binary_crossentropy: 0.2478 - val_acc: 0.9400\n",
      "Epoch 11/25\n",
      "400/400 [==============================] - 0s 580us/step - loss: 0.2254 - binary_crossentropy: 0.2254 - acc: 0.9500 - val_loss: 0.3845 - val_binary_crossentropy: 0.3845 - val_acc: 0.8100\n",
      "Epoch 12/25\n",
      "400/400 [==============================] - 0s 495us/step - loss: 0.1681 - binary_crossentropy: 0.1681 - acc: 0.9450 - val_loss: 0.1435 - val_binary_crossentropy: 0.1435 - val_acc: 0.9400\n",
      "Epoch 13/25\n",
      "400/400 [==============================] - 0s 439us/step - loss: 0.1728 - binary_crossentropy: 0.1728 - acc: 0.9425 - val_loss: 0.1689 - val_binary_crossentropy: 0.1689 - val_acc: 0.9400\n",
      "Epoch 14/25\n",
      "400/400 [==============================] - 0s 474us/step - loss: 0.1452 - binary_crossentropy: 0.1452 - acc: 0.9675 - val_loss: 0.2904 - val_binary_crossentropy: 0.2904 - val_acc: 0.8400\n",
      "Epoch 15/25\n",
      "400/400 [==============================] - 0s 483us/step - loss: 0.1425 - binary_crossentropy: 0.1425 - acc: 0.9575 - val_loss: 0.3534 - val_binary_crossentropy: 0.3534 - val_acc: 0.8300\n",
      "Epoch 16/25\n",
      "400/400 [==============================] - 0s 419us/step - loss: 0.1361 - binary_crossentropy: 0.1361 - acc: 0.9600 - val_loss: 0.0364 - val_binary_crossentropy: 0.0364 - val_acc: 1.0000\n",
      "Epoch 17/25\n",
      "400/400 [==============================] - 0s 504us/step - loss: 0.2379 - binary_crossentropy: 0.2379 - acc: 0.8875 - val_loss: 0.2872 - val_binary_crossentropy: 0.2872 - val_acc: 0.8800\n",
      "Epoch 18/25\n",
      "400/400 [==============================] - 0s 686us/step - loss: 0.1322 - binary_crossentropy: 0.1322 - acc: 0.9550 - val_loss: 0.2368 - val_binary_crossentropy: 0.2368 - val_acc: 0.9200\n",
      "Epoch 19/25\n",
      "400/400 [==============================] - 0s 623us/step - loss: 0.1193 - binary_crossentropy: 0.1193 - acc: 0.9575 - val_loss: 0.2031 - val_binary_crossentropy: 0.2031 - val_acc: 0.9300\n",
      "Epoch 20/25\n",
      "400/400 [==============================] - 0s 580us/step - loss: 0.1106 - binary_crossentropy: 0.1106 - acc: 0.9600 - val_loss: 0.2047 - val_binary_crossentropy: 0.2047 - val_acc: 0.9300\n",
      "Epoch 21/25\n",
      "400/400 [==============================] - 0s 477us/step - loss: 0.1029 - binary_crossentropy: 0.1029 - acc: 0.9650 - val_loss: 0.1962 - val_binary_crossentropy: 0.1962 - val_acc: 0.9300\n"
     ]
    }
   ],
   "source": [
    "history = model.fit(x=new_X, y=new_Y, \n",
    "                    batch_size=batch_size, \n",
    "                    epochs=max_epoch, \n",
    "                    verbose=1, \n",
    "                    callbacks=cb, \n",
    "                    validation_split=0.2, #\n",
    "                    validation_data=None, \n",
    "                    shuffle=True, \n",
    "                    class_weight=None, \n",
    "                    sample_weight=None, \n",
    "                    initial_epoch=0,\n",
    "                    steps_per_epoch=None, \n",
    "                    validation_steps=None)"
   ]
  },
  {
   "cell_type": "code",
   "execution_count": 56,
   "metadata": {},
   "outputs": [
    {
     "data": {
      "image/png": "[encoded data removed]",
      "text/plain": [
       "<Figure size 432x288 with 1 Axes>"
      ]
     },
     "metadata": {
      "needs_background": "light"
     },
     "output_type": "display_data"
    }
   ],
   "source": [
    "plt.plot(history.history['acc']) \n",
    "plt.plot(history.history['val_acc']) \n",
    "plt.title('Model accuracy') \n",
    "plt.ylabel('Accuracy') \n",
    "plt.xlabel('Epoch') \n",
    "plt.legend(['Train', 'Test'], loc='upper left') \n",
    "plt.show()"
   ]
  },
  {
   "cell_type": "code",
   "execution_count": 66,
   "metadata": {},
   "outputs": [
    {
     "name": "stdout",
     "output_type": "stream",
     "text": [
      "[37, 19, 12, 6, 22, 32, 2]\n",
      "[[ 0  0  0  0  0  0  0  0  0  0  0  0  0  0  0  0  0  0  0  0  0  0  0  0\n",
      "   0  0  0  0  0  0  0  0  0 37 19 12  6 22 32  2]]\n",
      "[[0]]\n"
     ]
    }
   ],
   "source": [
    "\n",
    "\n",
    "# # Convert characters to int\n",
    "# X_in_int = []\n",
    "# for domain in X:\n",
    "#     domain_in_int = []\n",
    "#     for c in domain:\n",
    "#         domain_in_int.append(chars_dict[c])\n",
    "#     X_in_int.append(domain_in_int)\n",
    "\n",
    "# X = X_in_int\n",
    "\n",
    "# maxlen = np.max([len(x) for x in X])\n",
    "# maxlen\n",
    "\n",
    "\n",
    "\n",
    "tstString = 'qwe.com'\n",
    "testList = []\n",
    "for char in tstString:\n",
    "    testList.append(chars_dict[char])\n",
    "output = sequence.pad_sequences([testList], maxlen=maxlen)\n",
    "\n",
    "print(testList)\n",
    "print(output)\n",
    "print(model.predict_classes(output))"
   ]
  }
 ],
 "metadata": {
  "kernelspec": {
   "display_name": "Python 3",
   "language": "python",
   "name": "python3"
  },
  "language_info": {
   "codemirror_mode": {
    "name": "ipython",
    "version": 3
   },
   "file_extension": ".py",
   "mimetype": "text/x-python",
   "name": "python",
   "nbconvert_exporter": "python",
   "pygments_lexer": "ipython3",
   "version": "3.7.2"
  }
 },
 "nbformat": 4,
 "nbformat_minor": 2
}
