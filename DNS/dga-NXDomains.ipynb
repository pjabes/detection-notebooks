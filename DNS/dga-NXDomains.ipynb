{
 "cells": [
  {
   "cell_type": "markdown",
   "metadata": {},
   "source": [
    "# NXDomain Counts\n",
    "\n",
    "DNS Response Code 3 (RCode) indicates \"Domain name does not exist\".  As the name suggests, this is present when a host will attempt to resolve a Domain name address that does not exist.  \n",
    "\n",
    "## Hypothesis:\n",
    "Clusters of users within the same department (e.g. Account) will tend to have a similar NXDomain response code count for a period of time.  If a user is generating an abnormal amount of NXDomain response codes, this is a potential indicator of compromise. \n",
    "\n",
    "## Datasets:\n",
    "\n",
    "\n",
    "\n"
   ]
  },
  {
   "cell_type": "code",
   "execution_count": 2,
   "metadata": {},
   "outputs": [],
   "source": [
    "import pandas as pd\n",
    "import numpy as np"
   ]
  },
  {
   "cell_type": "code",
   "execution_count": null,
   "metadata": {},
   "outputs": [],
   "source": [
    "data = [['192.168.0.1', 4], ['192.168.0.2', 25], ['192.168.0.3', 141]\n",
    "        "
   ]
  }
 ],
 "metadata": {
  "kernelspec": {
   "display_name": "Python 3",
   "language": "python",
   "name": "python3"
  },
  "language_info": {
   "codemirror_mode": {
    "name": "ipython",
    "version": 3
   },
   "file_extension": ".py",
   "mimetype": "text/x-python",
   "name": "python",
   "nbconvert_exporter": "python",
   "pygments_lexer": "ipython3",
   "version": "3.7.2"
  }
 },
 "nbformat": 4,
 "nbformat_minor": 2
}
